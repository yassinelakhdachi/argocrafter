{
 "cells": [
  {
   "cell_type": "code",
   "execution_count": 1,
   "metadata": {},
   "outputs": [
    {
     "name": "stdout",
     "output_type": "stream",
     "text": [
      "Setup Complete\n"
     ]
    }
   ],
   "source": [
    "import pandas as pd\n",
    "pd.plotting.register_matplotlib_converters()\n",
    "import matplotlib.pyplot as plt\n",
    "import seaborn as sns\n",
    "print(\"Setup Complete\")"
   ]
  },
  {
   "cell_type": "code",
   "execution_count": null,
   "metadata": {},
   "outputs": [
    {
     "ename": "",
     "evalue": "",
     "output_type": "error",
     "traceback": [
      "\u001b[1;31mFailed to start the Kernel. \n",
      "Traceback (most recent call last):\r\n",
      "  File \"c:\\Users\\Yqssine\\Downloads\\lib\\runpy.py\", line 194, in _run_module_as_main\r\n",
      "    return _run_code(code, main_globals, None,\r\n",
      "  File \"c:\\Users\\Yqssine\\Downloads\\lib\\runpy.py\", line 87, in _run_code\r\n",
      "    exec(code, run_globals)\r\n",
      "  File \"c:\\Users\\Yqssine\\Downloads\\lib\\site-packages\\ipykernel_launcher.py\", line 15, in <module>\r\n",
      "    from ipykernel import kernelapp as app\r\n",
      "  File \"c:\\Users\\Yqssine\\Downloads\\lib\\site-packages\\ipykernel\\kernelapp.py\", line 51, in <module>\r\n",
      "    from .ipkernel import IPythonKernel\r\n",
      "  File \"c:\\Users\\Yqssine\\Downloads\\lib\\site-packages\\ipykernel\\ipkernel.py\", line 19, in <module>\r\n",
      "    from .debugger import Debugger, _is_debugpy_available\r\n",
      "  File \"c:\\Users\\Yqssine\\Downloads\\lib\\site-packages\\ipykernel\\debugger.py\", line 22, in <module>\r\n",
      "    from debugpy.server import api  # noqa\r\n",
      "  File \"c:\\Users\\Yqssine\\Downloads\\lib\\site-packages\\debugpy\\server\\__init__.py\", line 9, in <module>\r\n",
      "    import debugpy._vendored.force_pydevd  # noqa\r\n",
      "  File \"c:\\Users\\Yqssine\\Downloads\\lib\\site-packages\\debugpy\\_vendored\\force_pydevd.py\", line 37, in <module>\r\n",
      "    pydevd_constants = import_module('_pydevd_bundle.pydevd_constants')\r\n",
      "  File \"c:\\Users\\Yqssine\\Downloads\\lib\\importlib\\__init__.py\", line 127, in import_module\r\n",
      "    return _bootstrap._gcd_import(name[level:], package, level)\r\n",
      "  File \"c:\\Users\\Yqssine\\Downloads\\lib\\site-packages\\debugpy\\_vendored\\pydevd\\_pydevd_bundle\\pydevd_constants.py\", line 362, in <module>\r\n",
      "    from _pydev_bundle._pydev_saved_modules import thread, threading\r\n",
      "  File \"c:\\Users\\Yqssine\\Downloads\\lib\\site-packages\\debugpy\\_vendored\\pydevd\\_pydev_bundle\\_pydev_saved_modules.py\", line 91, in <module>\r\n",
      "    import code as _code;    verify_shadowed.check(_code, ['compile_command', 'InteractiveInterpreter'])\r\n",
      "  File \"c:\\Users\\Yqssine\\Downloads\\lib\\site-packages\\debugpy\\_vendored\\pydevd\\_pydev_bundle\\_pydev_saved_modules.py\", line 75, in check\r\n",
      "    raise DebuggerInitializationError(msg)\r\n",
      "_pydev_bundle._pydev_saved_modules.DebuggerInitializationError: It was not possible to initialize the debugger due to a module name conflict.\r\n",
      "\r\n",
      "i.e.: the module \"code\" could not be imported because it is shadowed by:\r\n",
      "c:\\Users\\Yqssine\\Documents\\Technocholabes_Internship\\Data_Visualisation\\Plot Types and Custom Styles\\code.py\r\n",
      "Please rename this file/folder so that the original module from the standard library can be imported. \n",
      "View Jupyter <a href='command:jupyter.viewOutput'>log</a> for further details."
     ]
    }
   ],
   "source": [
    "# Path of the file to read\n",
    "spotify_filepath = \"C:/Users/Yqssine/Documents/Technocholabes_Internship/Dataset/spotify.csv\"\n",
    "\n",
    "# Read the file into a variable spotify_data\n",
    "spotify_data = pd.read_csv(spotify_filepath, index_col=\"Date\", parse_dates=True)"
   ]
  },
  {
   "cell_type": "code",
   "execution_count": null,
   "metadata": {},
   "outputs": [
    {
     "ename": "",
     "evalue": "",
     "output_type": "error",
     "traceback": [
      "\u001b[1;31mFailed to start the Kernel. \n",
      "Traceback (most recent call last):\r\n",
      "  File \"c:\\Users\\Yqssine\\Downloads\\lib\\runpy.py\", line 194, in _run_module_as_main\r\n",
      "    return _run_code(code, main_globals, None,\r\n",
      "  File \"c:\\Users\\Yqssine\\Downloads\\lib\\runpy.py\", line 87, in _run_code\r\n",
      "    exec(code, run_globals)\r\n",
      "  File \"c:\\Users\\Yqssine\\Downloads\\lib\\site-packages\\ipykernel_launcher.py\", line 15, in <module>\r\n",
      "    from ipykernel import kernelapp as app\r\n",
      "  File \"c:\\Users\\Yqssine\\Downloads\\lib\\site-packages\\ipykernel\\kernelapp.py\", line 51, in <module>\r\n",
      "    from .ipkernel import IPythonKernel\r\n",
      "  File \"c:\\Users\\Yqssine\\Downloads\\lib\\site-packages\\ipykernel\\ipkernel.py\", line 19, in <module>\r\n",
      "    from .debugger import Debugger, _is_debugpy_available\r\n",
      "  File \"c:\\Users\\Yqssine\\Downloads\\lib\\site-packages\\ipykernel\\debugger.py\", line 22, in <module>\r\n",
      "    from debugpy.server import api  # noqa\r\n",
      "  File \"c:\\Users\\Yqssine\\Downloads\\lib\\site-packages\\debugpy\\server\\__init__.py\", line 9, in <module>\r\n",
      "    import debugpy._vendored.force_pydevd  # noqa\r\n",
      "  File \"c:\\Users\\Yqssine\\Downloads\\lib\\site-packages\\debugpy\\_vendored\\force_pydevd.py\", line 37, in <module>\r\n",
      "    pydevd_constants = import_module('_pydevd_bundle.pydevd_constants')\r\n",
      "  File \"c:\\Users\\Yqssine\\Downloads\\lib\\importlib\\__init__.py\", line 127, in import_module\r\n",
      "    return _bootstrap._gcd_import(name[level:], package, level)\r\n",
      "  File \"c:\\Users\\Yqssine\\Downloads\\lib\\site-packages\\debugpy\\_vendored\\pydevd\\_pydevd_bundle\\pydevd_constants.py\", line 362, in <module>\r\n",
      "    from _pydev_bundle._pydev_saved_modules import thread, threading\r\n",
      "  File \"c:\\Users\\Yqssine\\Downloads\\lib\\site-packages\\debugpy\\_vendored\\pydevd\\_pydev_bundle\\_pydev_saved_modules.py\", line 91, in <module>\r\n",
      "    import code as _code;    verify_shadowed.check(_code, ['compile_command', 'InteractiveInterpreter'])\r\n",
      "  File \"c:\\Users\\Yqssine\\Downloads\\lib\\site-packages\\debugpy\\_vendored\\pydevd\\_pydev_bundle\\_pydev_saved_modules.py\", line 75, in check\r\n",
      "    raise DebuggerInitializationError(msg)\r\n",
      "_pydev_bundle._pydev_saved_modules.DebuggerInitializationError: It was not possible to initialize the debugger due to a module name conflict.\r\n",
      "\r\n",
      "i.e.: the module \"code\" could not be imported because it is shadowed by:\r\n",
      "c:\\Users\\Yqssine\\Documents\\Technocholabes_Internship\\Data_Visualisation\\Plot Types and Custom Styles\\code.py\r\n",
      "Please rename this file/folder so that the original module from the standard library can be imported. \n",
      "View Jupyter <a href='command:jupyter.viewOutput'>log</a> for further details."
     ]
    }
   ],
   "source": [
    "# Change the style of the figure\n",
    "sns.set_style(\"darkgrid\")\n",
    "\n",
    "# Line chart \n",
    "plt.figure(figsize=(12,6))\n",
    "sns.lineplot(data=spotify_data)"
   ]
  }
 ],
 "metadata": {
  "kernelspec": {
   "display_name": "Python 3.8.5 64-bit",
   "language": "python",
   "name": "python3"
  },
  "language_info": {
   "codemirror_mode": {
    "name": "ipython",
    "version": 3
   },
   "file_extension": ".py",
   "mimetype": "text/x-python",
   "name": "python",
   "nbconvert_exporter": "python",
   "pygments_lexer": "ipython3",
   "version": "3.8.5"
  },
  "orig_nbformat": 4,
  "vscode": {
   "interpreter": {
    "hash": "39969012fec5c26c176883b944627342c6b9a5539a6c9416b0cdb5206d4feb5e"
   }
  }
 },
 "nbformat": 4,
 "nbformat_minor": 2
}
